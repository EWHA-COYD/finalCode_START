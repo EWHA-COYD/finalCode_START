{
 "cells": [
  {
   "cell_type": "code",
   "execution_count": null,
   "metadata": {},
   "outputs": [],
   "source": [
    "import os, re, glob\n",
    "import cv2\n",
    "import numpy as np\n",
    "from sklearn.model_selection import train_test_split\n",
    "from google.colab import drive\n",
    "drive.mount('/content/gdrive')\n",
    "\n",
    "##Google Colaboratory  \n",
    "groups_folder_path = 'gdrive/MyDrive/Colab Notebooks/data/'\n",
    "categories = [\"0\", \"1\", \"2\", \"3\"]\n",
    " \n",
    "num_classes = len(categories)\n",
    "  \n",
    "image_w = 28\n",
    "image_h = 28\n",
    "  \n",
    "X = []\n",
    "Y = []\n",
    "  \n",
    "for idex, categorie in enumerate(categories):\n",
    "    label = [0 for i in range(num_classes)]\n",
    "    label[idex] = 1\n",
    "    image_dir = groups_folder_path + categorie + '/'\n",
    "  \n",
    "    for top, dir, f in os.walk(image_dir):\n",
    "        for filename in f:\n",
    "            print(image_dir+filename)\n",
    "            img = cv2.imread(image_dir+filename)\n",
    "            img = cv2.resize(img, None, fx=image_w/img.shape[1], fy=image_h/img.shape[0])\n",
    "            X.append(img/256)\n",
    "            Y.append(label)\n",
    " \n",
    "X = np.array(X)\n",
    "Y = np.array(Y)\n",
    " \n",
    "X_train, X_test, Y_train, Y_test = train_test_split(X,Y)\n",
    "xy = (X_train, X_test, Y_train, Y_test)\n",
    " \n",
    "np.save(\"./img_data.npy\", xy)"
   ]
  }
 ],
 "metadata": {
  "kernelspec": {
   "display_name": "Python 3.8.5 32-bit",
   "language": "python",
   "name": "python3"
  },
  "language_info": {
   "name": "python",
   "version": "3.8.5"
  },
  "orig_nbformat": 4,
  "vscode": {
   "interpreter": {
    "hash": "86631166e80d8ecf4e311f2cb09cfa9a9b9db11d0780b616cb466ddf739d61c5"
   }
  }
 },
 "nbformat": 4,
 "nbformat_minor": 2
}
