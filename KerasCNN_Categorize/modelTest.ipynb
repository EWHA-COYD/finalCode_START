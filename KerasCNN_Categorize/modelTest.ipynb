{
 "cells": [
  {
   "cell_type": "code",
   "execution_count": null,
   "metadata": {},
   "outputs": [],
   "source": [
    "import os, re, glob\n",
    "import cv2\n",
    "import numpy as np\n",
    "import shutil\n",
    "from numpy import argmax\n",
    "from keras.models import load_model\n",
    " \n",
    "categories = [\"0\", \"1\", \"2\", \"3\"]\n",
    " \n",
    "def Dataization(img_path):\n",
    "    image_w = 28\n",
    "    image_h = 28\n",
    "    img = cv2.imread(img_path)\n",
    "    img = cv2.resize(img, None, fx=image_w/img.shape[1], fy=image_h/img.shape[0])\n",
    "    return (img/256)\n",
    " \n",
    "src = []\n",
    "name = []\n",
    "test = []\n",
    "image_dir = \"gdrive/MyDrive/Colab Notebooks/data/test/\"\n",
    "for file in os.listdir(image_dir):\n",
    "    if (file.find('.jpg') is not -1):       \n",
    "        src.append(image_dir + file)\n",
    "        name.append(file)\n",
    "        test.append(Dataization(image_dir + file))\n",
    " \n",
    " \n",
    "test = np.array(test)\n",
    "model = load_model('Coyd.h5')\n",
    "pre_dict = model.predict(test)\n",
    "predict = np.argmax(pre_dict, axis = -1)\n",
    "\n",
    "for i in range(len(test)):\n",
    "    print(name[i] + \" : , Predict : \"+ str(categories[predict[i]]))"
   ]
  }
 ],
 "metadata": {
  "language_info": {
   "name": "python"
  },
  "orig_nbformat": 4
 },
 "nbformat": 4,
 "nbformat_minor": 2
}
